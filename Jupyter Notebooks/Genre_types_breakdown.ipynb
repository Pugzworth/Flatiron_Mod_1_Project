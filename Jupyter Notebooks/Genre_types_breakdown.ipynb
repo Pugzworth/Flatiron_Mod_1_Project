{
 "cells": [
  {
   "cell_type": "code",
   "execution_count": 1,
   "metadata": {},
   "outputs": [],
   "source": [
    "# ALL IMPORTS\n",
    "\n",
    "# <!--BASIC & PANDAS: -->\n",
    "import numpy as np\n",
    "import pandas as pd\n",
    "import matplotlib.pyplot as plt\n",
    "%matplotlib inline\n",
    "import seaborn as sns\n",
    "\n",
    "# <!-- SQL: -->\n",
    "import sqlite3 \n",
    "conn = sqlite3.connect('data.db')\n",
    "cur = conn.cursor()\n",
    "\n",
    "# <!-- WEBSCARAPING AND APIs -->\n",
    "import pandas as pd\n",
    "from bs4 import BeautifulSoup\n",
    "import requests\n",
    "import re\n",
    "import time"
   ]
  },
  {
   "cell_type": "code",
   "execution_count": 3,
   "metadata": {},
   "outputs": [],
   "source": [
    "df = pd.read_csv('/Users/takehiroyasuoka/Documents/Flatiron/Flatiron Repos/Flatiron_Mod_1_Project/CSVs/MovieDB_df.csv')"
   ]
  },
  {
   "cell_type": "code",
   "execution_count": 26,
   "metadata": {},
   "outputs": [],
   "source": [
    "df.genre_ids = df.genre_ids.apply(lambda x: eval(x))"
   ]
  },
  {
   "cell_type": "code",
   "execution_count": 31,
   "metadata": {},
   "outputs": [],
   "source": [
    "genre_list = []\n",
    "for genres in df.genre_ids:\n",
    "    for genre in genres:\n",
    "        if genre not in genre_list:\n",
    "            genre_list.append(genre)"
   ]
  },
  {
   "cell_type": "code",
   "execution_count": 73,
   "metadata": {},
   "outputs": [],
   "source": [
    "genre_counts = {}\n",
    "genre_percents = {}\n",
    "for genre in genre_list:\n",
    "    genre_counts[genre] = 0\n",
    "    genre_percents[genre] = 0"
   ]
  },
  {
   "cell_type": "code",
   "execution_count": 74,
   "metadata": {},
   "outputs": [],
   "source": [
    "for genres in df.genre_ids:\n",
    "    for genre in genres:\n",
    "        if genre in genre_counts:\n",
    "            genre_counts[genre] += 1"
   ]
  },
  {
   "cell_type": "code",
   "execution_count": 75,
   "metadata": {},
   "outputs": [
    {
     "data": {
      "text/plain": [
       "{'Comedy': 1994,\n",
       " 'Romance': 887,\n",
       " 'Action': 1217,\n",
       " 'Adventure': 758,\n",
       " 'Fantasy': 555,\n",
       " 'Drama': 2921,\n",
       " 'Mystery': 510,\n",
       " 'Science Fiction': 632,\n",
       " 'Thriller': 1541,\n",
       " 'Animation': 531,\n",
       " 'Family': 544,\n",
       " 'Crime': 690,\n",
       " 'History': 312,\n",
       " 'War': 190,\n",
       " 'Horror': 877,\n",
       " 'Music': 267,\n",
       " 'TV Movie': 279,\n",
       " 'Western': 64,\n",
       " 'Documentary': 588}"
      ]
     },
     "execution_count": 75,
     "metadata": {},
     "output_type": "execute_result"
    }
   ],
   "source": [
    "genre_counts"
   ]
  },
  {
   "cell_type": "code",
   "execution_count": 76,
   "metadata": {},
   "outputs": [],
   "source": [
    "for genre in genre_counts:\n",
    "    genre_precents[genre] = (genre_counts[genre]/sum(genre_counts.values()))*100"
   ]
  },
  {
   "cell_type": "code",
   "execution_count": 77,
   "metadata": {},
   "outputs": [
    {
     "data": {
      "text/plain": [
       "{'Comedy': 12.984306830761216,\n",
       " 'Romance': 5.77586768249007,\n",
       " 'Action': 7.924724881161685,\n",
       " 'Adventure': 4.935859868463893,\n",
       " 'Fantasy': 3.6139871068568077,\n",
       " 'Drama': 19.02064205248421,\n",
       " 'Mystery': 3.3209611252197693,\n",
       " 'Science Fiction': 4.115387119880185,\n",
       " 'Thriller': 10.034511948948362,\n",
       " 'Animation': 3.457706583317054,\n",
       " 'Family': 3.542358533567754,\n",
       " 'Crime': 4.493065051767924,\n",
       " 'History': 2.0316468060168003,\n",
       " 'War': 1.2372208113563847,\n",
       " 'Horror': 5.710750797681839,\n",
       " 'Music': 1.7386208243797618,\n",
       " 'TV Movie': 1.8167610861496386,\n",
       " 'Western': 0.41674806277267695,\n",
       " 'Documentary': 3.82887282672397}"
      ]
     },
     "execution_count": 77,
     "metadata": {},
     "output_type": "execute_result"
    }
   ],
   "source": [
    "genre_precents"
   ]
  },
  {
   "cell_type": "code",
   "execution_count": null,
   "metadata": {},
   "outputs": [],
   "source": []
  }
 ],
 "metadata": {
  "kernelspec": {
   "display_name": "Python 3",
   "language": "python",
   "name": "python3"
  },
  "language_info": {
   "codemirror_mode": {
    "name": "ipython",
    "version": 3
   },
   "file_extension": ".py",
   "mimetype": "text/x-python",
   "name": "python",
   "nbconvert_exporter": "python",
   "pygments_lexer": "ipython3",
   "version": "3.7.4"
  }
 },
 "nbformat": 4,
 "nbformat_minor": 2
}
