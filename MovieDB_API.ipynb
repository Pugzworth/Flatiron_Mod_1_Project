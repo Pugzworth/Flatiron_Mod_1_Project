{
 "cells": [
  {
   "cell_type": "markdown",
   "metadata": {},
   "source": [
    "## Import necessary libraries and setup the initial key/url"
   ]
  },
  {
   "cell_type": "code",
   "execution_count": 1,
   "metadata": {},
   "outputs": [],
   "source": [
    "import pandas as pd\n",
    "from bs4 import BeautifulSoup\n",
    "import requests\n",
    "import re\n",
    "import time\n",
    "from selenium import webdriver\n",
    "from selenium.webdriver.chrome.options import Options"
   ]
  },
  {
   "cell_type": "code",
   "execution_count": 2,
   "metadata": {},
   "outputs": [],
   "source": [
    "import json\n",
    "def get_keys(path):\n",
    "    with open(path) as f:\n",
    "        return json.load(f)\n",
    "\n",
    "api_key = get_keys(\"/Users/takehiroyasuoka/Documents/Flatiron/Flatiron Repos/Taki's Playground/API_keys.json\")\n",
    "moviedb_key = list(api_key.values())[0]"
   ]
  },
  {
   "cell_type": "code",
   "execution_count": 3,
   "metadata": {},
   "outputs": [],
   "source": [
    "moviedb_url =\"https://api.themoviedb.org/3/discover/movie?api_key=\"+moviedb_key+\"&language=en-US&sort_by=popularity.desc&include_adult=false&include_video=false&page=1&year=2019\"\n",
    "movie_url = requests.get(moviedb_url)"
   ]
  },
  {
   "cell_type": "markdown",
   "metadata": {},
   "source": [
    "## Create a List of Urls with the Years & Pages from 2015-2019"
   ]
  },
  {
   "cell_type": "markdown",
   "metadata": {},
   "source": [
    "Create a list of urls that represent the years"
   ]
  },
  {
   "cell_type": "code",
   "execution_count": 4,
   "metadata": {},
   "outputs": [],
   "source": [
    "movie_years = ['2019','2018','2017','2016','2015']\n",
    "def movie_years_url (years):\n",
    "    movie_url = []\n",
    "    for year in years:\n",
    "        movie_url.append(moviedb_url.replace('2019',year))\n",
    "    return movie_url\n",
    "moviedb_list_years = movie_years_url(movie_years)"
   ]
  },
  {
   "cell_type": "markdown",
   "metadata": {},
   "source": [
    "Create a list to iterate over with the page numbers"
   ]
  },
  {
   "cell_type": "code",
   "execution_count": 47,
   "metadata": {},
   "outputs": [],
   "source": [
    "def pagenumber_list (pb,pe):\n",
    "    numberlist = []\n",
    "    if pb == pe:\n",
    "        return pb\n",
    "    else:\n",
    "        while pb < pe+1:\n",
    "            numberlist.append(pb)\n",
    "            pb += 1\n",
    "    return numberlist\n",
    "\n",
    "moviedb_pages = pagenumber_list(1,100)"
   ]
  },
  {
   "cell_type": "markdown",
   "metadata": {},
   "source": [
    "Create a List of urls that has the page numbers and the years properly iterated over"
   ]
  },
  {
   "cell_type": "code",
   "execution_count": 48,
   "metadata": {
    "scrolled": false
   },
   "outputs": [
    {
     "data": {
      "text/plain": [
       "500"
      ]
     },
     "execution_count": 48,
     "metadata": {},
     "output_type": "execute_result"
    }
   ],
   "source": [
    "def movie_page_url (movielist):\n",
    "    result = []\n",
    "    count = 0\n",
    "    for url in movielist:\n",
    "        for page in moviedb_pages:\n",
    "            result.append(url.replace('page=1',f'page={moviedb_pages[page-1]}'))\n",
    "    return result       \n",
    "\n",
    "moviedb_pages_url = movie_page_url(moviedb_list_years)"
   ]
  },
  {
   "cell_type": "markdown",
   "metadata": {},
   "source": [
    "This comes out to a total of 500 URLs to run the API through with 20 results per URL making the total raw data at 10,000 rows worth of data."
   ]
  },
  {
   "cell_type": "markdown",
   "metadata": {},
   "source": [
    "## Run the API over the list of finalized urls to get all the data from 2015-2019"
   ]
  },
  {
   "cell_type": "markdown",
   "metadata": {},
   "source": [
    "Running the final formula to run the requests and create a dataframe with 10,000 Rows of data"
   ]
  },
  {
   "cell_type": "code",
   "execution_count": 49,
   "metadata": {},
   "outputs": [],
   "source": [
    "def moviedb_df (url_list):\n",
    "    moviedb_dataframe = pd.DataFrame()\n",
    "    for url in url_list:\n",
    "        moviedb_dataframe = pd.concat([moviedb_dataframe,(pd.DataFrame(requests.get(url).json()['results']))],sort=True)\n",
    "    return moviedb_dataframe\n",
    "\n",
    "moviedb_final = moviedb_df(moviedb_pages_url)"
   ]
  },
  {
   "cell_type": "markdown",
   "metadata": {},
   "source": [
    "Getting more detailed movie info by running another API"
   ]
  },
  {
   "cell_type": "code",
   "execution_count": null,
   "metadata": {
    "scrolled": false
   },
   "outputs": [],
   "source": [
    "def movieinfo_df (movie_id):\n",
    "    movieinfo_list = []\n",
    "    for ID in movie_id:\n",
    "        movieinfo = requests.get(f'https://api.themoviedb.org/3/movie/{ID}?api_key={moviedb_key}&language=en-US').json()\n",
    "        movieinfo_list.append(movieinfo)\n",
    "    return movieinfo_list\n",
    "\n",
    "movieinfo = movieinfo_df(moviedb_final.id)\n",
    "moviedb_info_df = pd.DataFrame(movieinfo)"
   ]
  },
  {
   "cell_type": "markdown",
   "metadata": {},
   "source": [
    "Combining the two dataframes with the data that is useful for the final dataframe"
   ]
  },
  {
   "cell_type": "code",
   "execution_count": 376,
   "metadata": {},
   "outputs": [],
   "source": [
    "moviedb_final_filtered_df = moviedb_final[['id','genre_ids','original_title','title','release_date','popularity','vote_average','vote_count']]\n",
    "moviedb_info_filtered_df = moviedb_info_df[['id','budget','revenue','imdb_id']]\n",
    "MovieDB_df = pd.merge(moviedb_final_filtered_df, moviedb_info_filtered_df, on='id')"
   ]
  },
  {
   "cell_type": "markdown",
   "metadata": {},
   "source": [
    "## Now to clean the dataframe to make it presentable"
   ]
  },
  {
   "cell_type": "markdown",
   "metadata": {},
   "source": [
    "We will start by removing all duplicate values"
   ]
  },
  {
   "cell_type": "code",
   "execution_count": 377,
   "metadata": {},
   "outputs": [],
   "source": [
    "MovieDB_df = MovieDB_df.drop_duplicates(subset = 'id')"
   ]
  },
  {
   "cell_type": "markdown",
   "metadata": {},
   "source": [
    "Since the Genres are still IDs so we will convert them into strings with the genres in readable format"
   ]
  },
  {
   "cell_type": "code",
   "execution_count": 378,
   "metadata": {},
   "outputs": [],
   "source": [
    "moviedb_genres = requests.get(f'https://api.themoviedb.org/3/genre/movie/list?api_key={moviedb_key}&language=en-US')\n",
    "movie_genre = pd.DataFrame(moviedb_genres.json()['genres'])\n",
    "movie_genre = movie_genre.set_index('id')\n",
    "genre = movie_genre['name'].to_dict()"
   ]
  },
  {
   "cell_type": "markdown",
   "metadata": {},
   "source": [
    "Simple Formula to replace the values"
   ]
  },
  {
   "cell_type": "code",
   "execution_count": 379,
   "metadata": {},
   "outputs": [],
   "source": [
    "def genre_repl(list_):\n",
    "    li =[]\n",
    "    for i in list_:\n",
    "        if i in genre.keys():\n",
    "            li.append(genre[i])\n",
    "    return li"
   ]
  },
  {
   "cell_type": "markdown",
   "metadata": {},
   "source": [
    "Replacing the old column with the new column with the proper values"
   ]
  },
  {
   "cell_type": "code",
   "execution_count": 380,
   "metadata": {},
   "outputs": [],
   "source": [
    "MovieDB_df['genre_ids'] = MovieDB_df['genre_ids'].apply(lambda x : genre_repl(x))"
   ]
  },
  {
   "cell_type": "markdown",
   "metadata": {},
   "source": [
    "Now to clean up the revenue and budget columns so it represents actual currency and update the averages to represent precentages"
   ]
  },
  {
   "cell_type": "code",
   "execution_count": 382,
   "metadata": {},
   "outputs": [],
   "source": [
    "def currency_convert(number):\n",
    "\n",
    "    return ('${:,.2f}'.format(number))"
   ]
  },
  {
   "cell_type": "code",
   "execution_count": 383,
   "metadata": {},
   "outputs": [],
   "source": [
    "MovieDB_df['revenue'] = MovieDB_df['revenue'].apply(lambda x: currency_convert(x))"
   ]
  },
  {
   "cell_type": "code",
   "execution_count": 384,
   "metadata": {},
   "outputs": [],
   "source": [
    "MovieDB_df['budget'] = MovieDB_df['budget'].apply(lambda x: currency_convert(x))"
   ]
  },
  {
   "cell_type": "code",
   "execution_count": 387,
   "metadata": {},
   "outputs": [],
   "source": [
    "MovieDB_df['vote_average'] = MovieDB_df['vote_average']*10"
   ]
  },
  {
   "cell_type": "markdown",
   "metadata": {},
   "source": [
    "## Finalize the dataframe and then convert it into a csv"
   ]
  },
  {
   "cell_type": "markdown",
   "metadata": {},
   "source": [
    "Take a quick last look at the dataframe to make sure everything looks good with the values."
   ]
  },
  {
   "cell_type": "code",
   "execution_count": 388,
   "metadata": {},
   "outputs": [
    {
     "data": {
      "text/html": [
       "<div>\n",
       "<style scoped>\n",
       "    .dataframe tbody tr th:only-of-type {\n",
       "        vertical-align: middle;\n",
       "    }\n",
       "\n",
       "    .dataframe tbody tr th {\n",
       "        vertical-align: top;\n",
       "    }\n",
       "\n",
       "    .dataframe thead th {\n",
       "        text-align: right;\n",
       "    }\n",
       "</style>\n",
       "<table border=\"1\" class=\"dataframe\">\n",
       "  <thead>\n",
       "    <tr style=\"text-align: right;\">\n",
       "      <th></th>\n",
       "      <th>id</th>\n",
       "      <th>genre_ids</th>\n",
       "      <th>original_title</th>\n",
       "      <th>title</th>\n",
       "      <th>release_date</th>\n",
       "      <th>popularity</th>\n",
       "      <th>vote_average</th>\n",
       "      <th>vote_count</th>\n",
       "      <th>budget</th>\n",
       "      <th>revenue</th>\n",
       "      <th>imdb_id</th>\n",
       "    </tr>\n",
       "  </thead>\n",
       "  <tbody>\n",
       "    <tr>\n",
       "      <td>0</td>\n",
       "      <td>475303</td>\n",
       "      <td>[Comedy, Romance]</td>\n",
       "      <td>A Rainy Day in New York</td>\n",
       "      <td>A Rainy Day in New York</td>\n",
       "      <td>2019-07-26</td>\n",
       "      <td>1305.559</td>\n",
       "      <td>67.0</td>\n",
       "      <td>591</td>\n",
       "      <td>$0.00</td>\n",
       "      <td>$0.00</td>\n",
       "      <td>tt7139936</td>\n",
       "    </tr>\n",
       "    <tr>\n",
       "      <td>1</td>\n",
       "      <td>512200</td>\n",
       "      <td>[Action, Adventure, Comedy, Fantasy]</td>\n",
       "      <td>Jumanji: The Next Level</td>\n",
       "      <td>Jumanji: The Next Level</td>\n",
       "      <td>2019-12-04</td>\n",
       "      <td>272.710</td>\n",
       "      <td>68.0</td>\n",
       "      <td>1901</td>\n",
       "      <td>$125,000,000.00</td>\n",
       "      <td>$310,830,000.00</td>\n",
       "      <td>tt7975244</td>\n",
       "    </tr>\n",
       "    <tr>\n",
       "      <td>2</td>\n",
       "      <td>419704</td>\n",
       "      <td>[Adventure, Drama, Mystery, Science Fiction, T...</td>\n",
       "      <td>Ad Astra</td>\n",
       "      <td>Ad Astra</td>\n",
       "      <td>2019-09-17</td>\n",
       "      <td>271.489</td>\n",
       "      <td>60.0</td>\n",
       "      <td>2483</td>\n",
       "      <td>$87,500,000.00</td>\n",
       "      <td>$127,175,922.00</td>\n",
       "      <td>tt2935510</td>\n",
       "    </tr>\n",
       "    <tr>\n",
       "      <td>3</td>\n",
       "      <td>496243</td>\n",
       "      <td>[Comedy, Drama, Thriller]</td>\n",
       "      <td>기생충</td>\n",
       "      <td>Parasite</td>\n",
       "      <td>2019-05-30</td>\n",
       "      <td>148.987</td>\n",
       "      <td>86.0</td>\n",
       "      <td>4756</td>\n",
       "      <td>$11,363,000.00</td>\n",
       "      <td>$201,055,038.00</td>\n",
       "      <td>tt6751668</td>\n",
       "    </tr>\n",
       "    <tr>\n",
       "      <td>4</td>\n",
       "      <td>330457</td>\n",
       "      <td>[Adventure, Animation, Family]</td>\n",
       "      <td>Frozen II</td>\n",
       "      <td>Frozen II</td>\n",
       "      <td>2019-11-20</td>\n",
       "      <td>124.257</td>\n",
       "      <td>71.0</td>\n",
       "      <td>2614</td>\n",
       "      <td>$33,000,000.00</td>\n",
       "      <td>$1,330,764,959.00</td>\n",
       "      <td>tt4520988</td>\n",
       "    </tr>\n",
       "    <tr>\n",
       "      <td>...</td>\n",
       "      <td>...</td>\n",
       "      <td>...</td>\n",
       "      <td>...</td>\n",
       "      <td>...</td>\n",
       "      <td>...</td>\n",
       "      <td>...</td>\n",
       "      <td>...</td>\n",
       "      <td>...</td>\n",
       "      <td>...</td>\n",
       "      <td>...</td>\n",
       "      <td>...</td>\n",
       "    </tr>\n",
       "    <tr>\n",
       "      <td>17292</td>\n",
       "      <td>325071</td>\n",
       "      <td>[TV Movie, Mystery]</td>\n",
       "      <td>Garage Sale Mystery: The Deadly Room</td>\n",
       "      <td>Garage Sale Mystery: The Deadly Room</td>\n",
       "      <td>2015-04-11</td>\n",
       "      <td>3.233</td>\n",
       "      <td>65.0</td>\n",
       "      <td>30</td>\n",
       "      <td>$0.00</td>\n",
       "      <td>$0.00</td>\n",
       "      <td>tt4460190</td>\n",
       "    </tr>\n",
       "    <tr>\n",
       "      <td>17293</td>\n",
       "      <td>18044</td>\n",
       "      <td>[Horror, Science Fiction]</td>\n",
       "      <td>Ogre</td>\n",
       "      <td>Ogre</td>\n",
       "      <td>2008-03-08</td>\n",
       "      <td>3.237</td>\n",
       "      <td>40.0</td>\n",
       "      <td>22</td>\n",
       "      <td>$0.00</td>\n",
       "      <td>$0.00</td>\n",
       "      <td>tt0923824</td>\n",
       "    </tr>\n",
       "    <tr>\n",
       "      <td>17294</td>\n",
       "      <td>148656</td>\n",
       "      <td>[Fantasy, Family, TV Movie]</td>\n",
       "      <td>The Good Witch's Charm</td>\n",
       "      <td>The Good Witch's Charm</td>\n",
       "      <td>2012-10-27</td>\n",
       "      <td>4.618</td>\n",
       "      <td>72.0</td>\n",
       "      <td>43</td>\n",
       "      <td>$0.00</td>\n",
       "      <td>$0.00</td>\n",
       "      <td>tt2273004</td>\n",
       "    </tr>\n",
       "    <tr>\n",
       "      <td>17295</td>\n",
       "      <td>324300</td>\n",
       "      <td>[Documentary]</td>\n",
       "      <td>Rolling Papers</td>\n",
       "      <td>Rolling Papers</td>\n",
       "      <td>2015-03-15</td>\n",
       "      <td>3.102</td>\n",
       "      <td>60.0</td>\n",
       "      <td>9</td>\n",
       "      <td>$0.00</td>\n",
       "      <td>$0.00</td>\n",
       "      <td>tt3621360</td>\n",
       "    </tr>\n",
       "    <tr>\n",
       "      <td>17296</td>\n",
       "      <td>356216</td>\n",
       "      <td>[Crime]</td>\n",
       "      <td>The Rise of the Krays</td>\n",
       "      <td>The Rise of the Krays</td>\n",
       "      <td>2015-08-29</td>\n",
       "      <td>3.142</td>\n",
       "      <td>47.0</td>\n",
       "      <td>27</td>\n",
       "      <td>$2,500,000.00</td>\n",
       "      <td>$0.00</td>\n",
       "      <td>tt2945796</td>\n",
       "    </tr>\n",
       "  </tbody>\n",
       "</table>\n",
       "<p>6913 rows × 11 columns</p>\n",
       "</div>"
      ],
      "text/plain": [
       "           id                                          genre_ids  \\\n",
       "0      475303                                  [Comedy, Romance]   \n",
       "1      512200               [Action, Adventure, Comedy, Fantasy]   \n",
       "2      419704  [Adventure, Drama, Mystery, Science Fiction, T...   \n",
       "3      496243                          [Comedy, Drama, Thriller]   \n",
       "4      330457                     [Adventure, Animation, Family]   \n",
       "...       ...                                                ...   \n",
       "17292  325071                                [TV Movie, Mystery]   \n",
       "17293   18044                          [Horror, Science Fiction]   \n",
       "17294  148656                        [Fantasy, Family, TV Movie]   \n",
       "17295  324300                                      [Documentary]   \n",
       "17296  356216                                            [Crime]   \n",
       "\n",
       "                             original_title  \\\n",
       "0                   A Rainy Day in New York   \n",
       "1                   Jumanji: The Next Level   \n",
       "2                                  Ad Astra   \n",
       "3                                       기생충   \n",
       "4                                 Frozen II   \n",
       "...                                     ...   \n",
       "17292  Garage Sale Mystery: The Deadly Room   \n",
       "17293                                  Ogre   \n",
       "17294                The Good Witch's Charm   \n",
       "17295                        Rolling Papers   \n",
       "17296                 The Rise of the Krays   \n",
       "\n",
       "                                      title release_date  popularity  \\\n",
       "0                   A Rainy Day in New York   2019-07-26    1305.559   \n",
       "1                   Jumanji: The Next Level   2019-12-04     272.710   \n",
       "2                                  Ad Astra   2019-09-17     271.489   \n",
       "3                                  Parasite   2019-05-30     148.987   \n",
       "4                                 Frozen II   2019-11-20     124.257   \n",
       "...                                     ...          ...         ...   \n",
       "17292  Garage Sale Mystery: The Deadly Room   2015-04-11       3.233   \n",
       "17293                                  Ogre   2008-03-08       3.237   \n",
       "17294                The Good Witch's Charm   2012-10-27       4.618   \n",
       "17295                        Rolling Papers   2015-03-15       3.102   \n",
       "17296                 The Rise of the Krays   2015-08-29       3.142   \n",
       "\n",
       "       vote_average  vote_count           budget            revenue    imdb_id  \n",
       "0              67.0         591            $0.00              $0.00  tt7139936  \n",
       "1              68.0        1901  $125,000,000.00    $310,830,000.00  tt7975244  \n",
       "2              60.0        2483   $87,500,000.00    $127,175,922.00  tt2935510  \n",
       "3              86.0        4756   $11,363,000.00    $201,055,038.00  tt6751668  \n",
       "4              71.0        2614   $33,000,000.00  $1,330,764,959.00  tt4520988  \n",
       "...             ...         ...              ...                ...        ...  \n",
       "17292          65.0          30            $0.00              $0.00  tt4460190  \n",
       "17293          40.0          22            $0.00              $0.00  tt0923824  \n",
       "17294          72.0          43            $0.00              $0.00  tt2273004  \n",
       "17295          60.0           9            $0.00              $0.00  tt3621360  \n",
       "17296          47.0          27    $2,500,000.00              $0.00  tt2945796  \n",
       "\n",
       "[6913 rows x 11 columns]"
      ]
     },
     "execution_count": 388,
     "metadata": {},
     "output_type": "execute_result"
    }
   ],
   "source": [
    "MovieDB_df"
   ]
  },
  {
   "cell_type": "markdown",
   "metadata": {},
   "source": [
    "Now convert the dataframe into a csv"
   ]
  },
  {
   "cell_type": "code",
   "execution_count": 389,
   "metadata": {},
   "outputs": [],
   "source": [
    "MovieDB_df.to_csv('/Users/takehiroyasuoka/Documents/Flatiron/Flatiron Repos/Flatiron_Mod_1_Project/MovieDB_df.csv')"
   ]
  }
 ],
 "metadata": {
  "kernelspec": {
   "display_name": "Python 3",
   "language": "python",
   "name": "python3"
  },
  "language_info": {
   "codemirror_mode": {
    "name": "ipython",
    "version": 3
   },
   "file_extension": ".py",
   "mimetype": "text/x-python",
   "name": "python",
   "nbconvert_exporter": "python",
   "pygments_lexer": "ipython3",
   "version": "3.7.4"
  }
 },
 "nbformat": 4,
 "nbformat_minor": 2
}
