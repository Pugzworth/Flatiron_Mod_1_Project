{
 "cells": [
  {
   "cell_type": "code",
   "execution_count": 15,
   "metadata": {},
   "outputs": [],
   "source": [
    "import pandas as pd\n",
    "import seaborn as sns\n",
    "import matplotlib as plt"
   ]
  },
  {
   "cell_type": "code",
   "execution_count": 16,
   "metadata": {},
   "outputs": [],
   "source": [
    "df_1 = pd.read_csv('CSVs/MovieDB_df.csv')"
   ]
  },
  {
   "cell_type": "code",
   "execution_count": 17,
   "metadata": {},
   "outputs": [
    {
     "data": {
      "text/html": [
       "<div>\n",
       "<style scoped>\n",
       "    .dataframe tbody tr th:only-of-type {\n",
       "        vertical-align: middle;\n",
       "    }\n",
       "\n",
       "    .dataframe tbody tr th {\n",
       "        vertical-align: top;\n",
       "    }\n",
       "\n",
       "    .dataframe thead th {\n",
       "        text-align: right;\n",
       "    }\n",
       "</style>\n",
       "<table border=\"1\" class=\"dataframe\">\n",
       "  <thead>\n",
       "    <tr style=\"text-align: right;\">\n",
       "      <th></th>\n",
       "      <th>Unnamed: 0</th>\n",
       "      <th>id</th>\n",
       "      <th>genre_ids</th>\n",
       "      <th>original_title</th>\n",
       "      <th>title</th>\n",
       "      <th>release_date</th>\n",
       "      <th>popularity</th>\n",
       "      <th>vote_average</th>\n",
       "      <th>vote_count</th>\n",
       "      <th>budget</th>\n",
       "      <th>revenue</th>\n",
       "      <th>imdb_id</th>\n",
       "    </tr>\n",
       "  </thead>\n",
       "  <tbody>\n",
       "    <tr>\n",
       "      <td>4793</td>\n",
       "      <td>4793</td>\n",
       "      <td>227973</td>\n",
       "      <td>['Adventure', 'Animation', 'Comedy', 'Family']</td>\n",
       "      <td>The Peanuts Movie</td>\n",
       "      <td>The Peanuts Movie</td>\n",
       "      <td>2015-11-01</td>\n",
       "      <td>11.384</td>\n",
       "      <td>66.0</td>\n",
       "      <td>981</td>\n",
       "      <td>$99,000,000.00</td>\n",
       "      <td>$246,233,113.00</td>\n",
       "      <td>tt2452042</td>\n",
       "    </tr>\n",
       "    <tr>\n",
       "      <td>5503</td>\n",
       "      <td>5503</td>\n",
       "      <td>298721</td>\n",
       "      <td>['Drama', 'Fantasy']</td>\n",
       "      <td>รักที่ขอนแก่น</td>\n",
       "      <td>Cemetery of Splendour</td>\n",
       "      <td>2015-09-02</td>\n",
       "      <td>3.867</td>\n",
       "      <td>53.0</td>\n",
       "      <td>78</td>\n",
       "      <td>$980,000.00</td>\n",
       "      <td>$0.00</td>\n",
       "      <td>tt2818654</td>\n",
       "    </tr>\n",
       "    <tr>\n",
       "      <td>3430</td>\n",
       "      <td>3430</td>\n",
       "      <td>1734</td>\n",
       "      <td>['Action', 'Adventure', 'Fantasy']</td>\n",
       "      <td>The Mummy Returns</td>\n",
       "      <td>The Mummy Returns</td>\n",
       "      <td>2001-05-04</td>\n",
       "      <td>14.889</td>\n",
       "      <td>62.0</td>\n",
       "      <td>4382</td>\n",
       "      <td>$98,000,000.00</td>\n",
       "      <td>$433,013,274.00</td>\n",
       "      <td>tt0209163</td>\n",
       "    </tr>\n",
       "    <tr>\n",
       "      <td>17</td>\n",
       "      <td>17</td>\n",
       "      <td>359724</td>\n",
       "      <td>['Action', 'Drama']</td>\n",
       "      <td>Ford v Ferrari</td>\n",
       "      <td>Ford v Ferrari</td>\n",
       "      <td>2019-11-13</td>\n",
       "      <td>55.865</td>\n",
       "      <td>78.0</td>\n",
       "      <td>1730</td>\n",
       "      <td>$97,600,000.00</td>\n",
       "      <td>$220,803,003.00</td>\n",
       "      <td>tt1950186</td>\n",
       "    </tr>\n",
       "    <tr>\n",
       "      <td>2034</td>\n",
       "      <td>2034</td>\n",
       "      <td>263115</td>\n",
       "      <td>['Action', 'Drama', 'Science Fiction']</td>\n",
       "      <td>Logan</td>\n",
       "      <td>Logan</td>\n",
       "      <td>2017-02-28</td>\n",
       "      <td>29.391</td>\n",
       "      <td>78.0</td>\n",
       "      <td>13594</td>\n",
       "      <td>$97,000,000.00</td>\n",
       "      <td>$619,021,436.00</td>\n",
       "      <td>tt3315342</td>\n",
       "    </tr>\n",
       "    <tr>\n",
       "      <td>...</td>\n",
       "      <td>...</td>\n",
       "      <td>...</td>\n",
       "      <td>...</td>\n",
       "      <td>...</td>\n",
       "      <td>...</td>\n",
       "      <td>...</td>\n",
       "      <td>...</td>\n",
       "      <td>...</td>\n",
       "      <td>...</td>\n",
       "      <td>...</td>\n",
       "      <td>...</td>\n",
       "      <td>...</td>\n",
       "    </tr>\n",
       "    <tr>\n",
       "      <td>2779</td>\n",
       "      <td>2779</td>\n",
       "      <td>484862</td>\n",
       "      <td>['Action', 'Animation', 'Comedy']</td>\n",
       "      <td>Scooby-Doo! &amp; Batman: The Brave and the Bold</td>\n",
       "      <td>Scooby-Doo! &amp; Batman: The Brave and the Bold</td>\n",
       "      <td>2018-01-09</td>\n",
       "      <td>5.594</td>\n",
       "      <td>65.0</td>\n",
       "      <td>54</td>\n",
       "      <td>$0.00</td>\n",
       "      <td>$0.00</td>\n",
       "      <td>tt7578566</td>\n",
       "    </tr>\n",
       "    <tr>\n",
       "      <td>2778</td>\n",
       "      <td>2778</td>\n",
       "      <td>516038</td>\n",
       "      <td>['Comedy']</td>\n",
       "      <td>Fary Is the New Black</td>\n",
       "      <td>Fary Is the New Black</td>\n",
       "      <td>2018-04-03</td>\n",
       "      <td>6.370</td>\n",
       "      <td>70.0</td>\n",
       "      <td>59</td>\n",
       "      <td>$0.00</td>\n",
       "      <td>$0.00</td>\n",
       "      <td>tt8201924</td>\n",
       "    </tr>\n",
       "    <tr>\n",
       "      <td>2777</td>\n",
       "      <td>2777</td>\n",
       "      <td>438348</td>\n",
       "      <td>['Comedy']</td>\n",
       "      <td>Knock</td>\n",
       "      <td>Knock</td>\n",
       "      <td>2017-10-18</td>\n",
       "      <td>8.014</td>\n",
       "      <td>61.0</td>\n",
       "      <td>252</td>\n",
       "      <td>$0.00</td>\n",
       "      <td>$0.00</td>\n",
       "      <td>tt6515342</td>\n",
       "    </tr>\n",
       "    <tr>\n",
       "      <td>2775</td>\n",
       "      <td>2775</td>\n",
       "      <td>406385</td>\n",
       "      <td>['Action', 'Comedy', 'Crime']</td>\n",
       "      <td>Smetto quando voglio - Masterclass</td>\n",
       "      <td>I Can Quit Whenever I Want 2: Masterclass</td>\n",
       "      <td>2017-02-02</td>\n",
       "      <td>5.536</td>\n",
       "      <td>75.0</td>\n",
       "      <td>828</td>\n",
       "      <td>$0.00</td>\n",
       "      <td>$0.00</td>\n",
       "      <td>tt5897288</td>\n",
       "    </tr>\n",
       "    <tr>\n",
       "      <td>6910</td>\n",
       "      <td>6910</td>\n",
       "      <td>324300</td>\n",
       "      <td>['Documentary']</td>\n",
       "      <td>Rolling Papers</td>\n",
       "      <td>Rolling Papers</td>\n",
       "      <td>2015-03-15</td>\n",
       "      <td>2.744</td>\n",
       "      <td>60.0</td>\n",
       "      <td>9</td>\n",
       "      <td>$0.00</td>\n",
       "      <td>$0.00</td>\n",
       "      <td>tt3621360</td>\n",
       "    </tr>\n",
       "  </tbody>\n",
       "</table>\n",
       "<p>6911 rows × 12 columns</p>\n",
       "</div>"
      ],
      "text/plain": [
       "      Unnamed: 0      id                                       genre_ids  \\\n",
       "4793        4793  227973  ['Adventure', 'Animation', 'Comedy', 'Family']   \n",
       "5503        5503  298721                            ['Drama', 'Fantasy']   \n",
       "3430        3430    1734              ['Action', 'Adventure', 'Fantasy']   \n",
       "17            17  359724                             ['Action', 'Drama']   \n",
       "2034        2034  263115          ['Action', 'Drama', 'Science Fiction']   \n",
       "...          ...     ...                                             ...   \n",
       "2779        2779  484862               ['Action', 'Animation', 'Comedy']   \n",
       "2778        2778  516038                                      ['Comedy']   \n",
       "2777        2777  438348                                      ['Comedy']   \n",
       "2775        2775  406385                   ['Action', 'Comedy', 'Crime']   \n",
       "6910        6910  324300                                 ['Documentary']   \n",
       "\n",
       "                                    original_title  \\\n",
       "4793                             The Peanuts Movie   \n",
       "5503                                 รักที่ขอนแก่น   \n",
       "3430                             The Mummy Returns   \n",
       "17                                  Ford v Ferrari   \n",
       "2034                                         Logan   \n",
       "...                                            ...   \n",
       "2779  Scooby-Doo! & Batman: The Brave and the Bold   \n",
       "2778                         Fary Is the New Black   \n",
       "2777                                         Knock   \n",
       "2775            Smetto quando voglio - Masterclass   \n",
       "6910                                Rolling Papers   \n",
       "\n",
       "                                             title release_date  popularity  \\\n",
       "4793                             The Peanuts Movie   2015-11-01      11.384   \n",
       "5503                         Cemetery of Splendour   2015-09-02       3.867   \n",
       "3430                             The Mummy Returns   2001-05-04      14.889   \n",
       "17                                  Ford v Ferrari   2019-11-13      55.865   \n",
       "2034                                         Logan   2017-02-28      29.391   \n",
       "...                                            ...          ...         ...   \n",
       "2779  Scooby-Doo! & Batman: The Brave and the Bold   2018-01-09       5.594   \n",
       "2778                         Fary Is the New Black   2018-04-03       6.370   \n",
       "2777                                         Knock   2017-10-18       8.014   \n",
       "2775     I Can Quit Whenever I Want 2: Masterclass   2017-02-02       5.536   \n",
       "6910                                Rolling Papers   2015-03-15       2.744   \n",
       "\n",
       "      vote_average  vote_count          budget          revenue    imdb_id  \n",
       "4793          66.0         981  $99,000,000.00  $246,233,113.00  tt2452042  \n",
       "5503          53.0          78     $980,000.00            $0.00  tt2818654  \n",
       "3430          62.0        4382  $98,000,000.00  $433,013,274.00  tt0209163  \n",
       "17            78.0        1730  $97,600,000.00  $220,803,003.00  tt1950186  \n",
       "2034          78.0       13594  $97,000,000.00  $619,021,436.00  tt3315342  \n",
       "...            ...         ...             ...              ...        ...  \n",
       "2779          65.0          54           $0.00            $0.00  tt7578566  \n",
       "2778          70.0          59           $0.00            $0.00  tt8201924  \n",
       "2777          61.0         252           $0.00            $0.00  tt6515342  \n",
       "2775          75.0         828           $0.00            $0.00  tt5897288  \n",
       "6910          60.0           9           $0.00            $0.00  tt3621360  \n",
       "\n",
       "[6911 rows x 12 columns]"
      ]
     },
     "execution_count": 17,
     "metadata": {},
     "output_type": "execute_result"
    }
   ],
   "source": [
    "df_1.sort_values(by=['budget'], ascending=False)"
   ]
  },
  {
   "cell_type": "code",
   "execution_count": 18,
   "metadata": {},
   "outputs": [],
   "source": [
    "df_1=df_1.drop('Unnamed: 0', axis =1)"
   ]
  },
  {
   "cell_type": "code",
   "execution_count": 19,
   "metadata": {},
   "outputs": [],
   "source": [
    "df_2 = pd.read_csv('df_imdb_fin.csv')"
   ]
  },
  {
   "cell_type": "code",
   "execution_count": 20,
   "metadata": {},
   "outputs": [
    {
     "data": {
      "text/html": [
       "<div>\n",
       "<style scoped>\n",
       "    .dataframe tbody tr th:only-of-type {\n",
       "        vertical-align: middle;\n",
       "    }\n",
       "\n",
       "    .dataframe tbody tr th {\n",
       "        vertical-align: top;\n",
       "    }\n",
       "\n",
       "    .dataframe thead th {\n",
       "        text-align: right;\n",
       "    }\n",
       "</style>\n",
       "<table border=\"1\" class=\"dataframe\">\n",
       "  <thead>\n",
       "    <tr style=\"text-align: right;\">\n",
       "      <th></th>\n",
       "      <th>Unnamed: 0</th>\n",
       "      <th>tconst</th>\n",
       "      <th>originalTitle</th>\n",
       "      <th>startYear</th>\n",
       "      <th>genres</th>\n",
       "      <th>averageRating</th>\n",
       "      <th>numVotes</th>\n",
       "    </tr>\n",
       "  </thead>\n",
       "  <tbody>\n",
       "    <tr>\n",
       "      <td>0</td>\n",
       "      <td>1328</td>\n",
       "      <td>tt10551082</td>\n",
       "      <td>Shattered Waves</td>\n",
       "      <td>2017.0</td>\n",
       "      <td>Drama,History</td>\n",
       "      <td>10.0</td>\n",
       "      <td>8</td>\n",
       "    </tr>\n",
       "    <tr>\n",
       "      <td>1</td>\n",
       "      <td>2475</td>\n",
       "      <td>tt11214476</td>\n",
       "      <td>The Destiny Samaj of Banjaraa</td>\n",
       "      <td>2019.0</td>\n",
       "      <td>Drama</td>\n",
       "      <td>10.0</td>\n",
       "      <td>5</td>\n",
       "    </tr>\n",
       "    <tr>\n",
       "      <td>2</td>\n",
       "      <td>918</td>\n",
       "      <td>tt10378512</td>\n",
       "      <td>Path of the Daff</td>\n",
       "      <td>2019.0</td>\n",
       "      <td>Documentary</td>\n",
       "      <td>10.0</td>\n",
       "      <td>11</td>\n",
       "    </tr>\n",
       "    <tr>\n",
       "      <td>3</td>\n",
       "      <td>1467</td>\n",
       "      <td>tt10620492</td>\n",
       "      <td>Khoussouf</td>\n",
       "      <td>2016.0</td>\n",
       "      <td>Drama</td>\n",
       "      <td>10.0</td>\n",
       "      <td>8</td>\n",
       "    </tr>\n",
       "    <tr>\n",
       "      <td>4</td>\n",
       "      <td>1449</td>\n",
       "      <td>tt10608660</td>\n",
       "      <td>Identitas - Uguali ma diversi</td>\n",
       "      <td>2019.0</td>\n",
       "      <td>Documentary</td>\n",
       "      <td>10.0</td>\n",
       "      <td>6</td>\n",
       "    </tr>\n",
       "  </tbody>\n",
       "</table>\n",
       "</div>"
      ],
      "text/plain": [
       "   Unnamed: 0      tconst                  originalTitle  startYear  \\\n",
       "0        1328  tt10551082                Shattered Waves     2017.0   \n",
       "1        2475  tt11214476  The Destiny Samaj of Banjaraa     2019.0   \n",
       "2         918  tt10378512               Path of the Daff     2019.0   \n",
       "3        1467  tt10620492                      Khoussouf     2016.0   \n",
       "4        1449  tt10608660  Identitas - Uguali ma diversi     2019.0   \n",
       "\n",
       "          genres  averageRating  numVotes  \n",
       "0  Drama,History           10.0         8  \n",
       "1          Drama           10.0         5  \n",
       "2    Documentary           10.0        11  \n",
       "3          Drama           10.0         8  \n",
       "4    Documentary           10.0         6  "
      ]
     },
     "execution_count": 20,
     "metadata": {},
     "output_type": "execute_result"
    }
   ],
   "source": [
    "df_2.head()"
   ]
  },
  {
   "cell_type": "code",
   "execution_count": 21,
   "metadata": {},
   "outputs": [],
   "source": [
    "df_2.rename(columns={'imdb_id\t':'imdb_id'}, inplace=True)"
   ]
  },
  {
   "cell_type": "code",
   "execution_count": 22,
   "metadata": {},
   "outputs": [],
   "source": [
    "df_2=df_2.drop('Unnamed: 0', axis =1)"
   ]
  },
  {
   "cell_type": "code",
   "execution_count": 23,
   "metadata": {},
   "outputs": [
    {
     "ename": "MergeError",
     "evalue": "No common columns to perform merge on. Merge options: left_on=None, right_on=None, left_index=False, right_index=False",
     "output_type": "error",
     "traceback": [
      "\u001b[0;31m---------------------------------------------------------------------------\u001b[0m",
      "\u001b[0;31mMergeError\u001b[0m                                Traceback (most recent call last)",
      "\u001b[0;32m<ipython-input-23-c1da301c8cd6>\u001b[0m in \u001b[0;36m<module>\u001b[0;34m\u001b[0m\n\u001b[0;32m----> 1\u001b[0;31m \u001b[0mdf_tot\u001b[0m \u001b[0;34m=\u001b[0m \u001b[0mdf_1\u001b[0m\u001b[0;34m.\u001b[0m\u001b[0mmerge\u001b[0m\u001b[0;34m(\u001b[0m\u001b[0mdf_2\u001b[0m\u001b[0;34m)\u001b[0m\u001b[0;34m\u001b[0m\u001b[0;34m\u001b[0m\u001b[0m\n\u001b[0m",
      "\u001b[0;32m~/anaconda3/envs/learn-env/lib/python3.6/site-packages/pandas/core/frame.py\u001b[0m in \u001b[0;36mmerge\u001b[0;34m(self, right, how, on, left_on, right_on, left_index, right_index, sort, suffixes, copy, indicator, validate)\u001b[0m\n\u001b[1;32m   7332\u001b[0m             \u001b[0mcopy\u001b[0m\u001b[0;34m=\u001b[0m\u001b[0mcopy\u001b[0m\u001b[0;34m,\u001b[0m\u001b[0;34m\u001b[0m\u001b[0;34m\u001b[0m\u001b[0m\n\u001b[1;32m   7333\u001b[0m             \u001b[0mindicator\u001b[0m\u001b[0;34m=\u001b[0m\u001b[0mindicator\u001b[0m\u001b[0;34m,\u001b[0m\u001b[0;34m\u001b[0m\u001b[0;34m\u001b[0m\u001b[0m\n\u001b[0;32m-> 7334\u001b[0;31m             \u001b[0mvalidate\u001b[0m\u001b[0;34m=\u001b[0m\u001b[0mvalidate\u001b[0m\u001b[0;34m,\u001b[0m\u001b[0;34m\u001b[0m\u001b[0;34m\u001b[0m\u001b[0m\n\u001b[0m\u001b[1;32m   7335\u001b[0m         )\n\u001b[1;32m   7336\u001b[0m \u001b[0;34m\u001b[0m\u001b[0m\n",
      "\u001b[0;32m~/anaconda3/envs/learn-env/lib/python3.6/site-packages/pandas/core/reshape/merge.py\u001b[0m in \u001b[0;36mmerge\u001b[0;34m(left, right, how, on, left_on, right_on, left_index, right_index, sort, suffixes, copy, indicator, validate)\u001b[0m\n\u001b[1;32m     79\u001b[0m         \u001b[0mcopy\u001b[0m\u001b[0;34m=\u001b[0m\u001b[0mcopy\u001b[0m\u001b[0;34m,\u001b[0m\u001b[0;34m\u001b[0m\u001b[0;34m\u001b[0m\u001b[0m\n\u001b[1;32m     80\u001b[0m         \u001b[0mindicator\u001b[0m\u001b[0;34m=\u001b[0m\u001b[0mindicator\u001b[0m\u001b[0;34m,\u001b[0m\u001b[0;34m\u001b[0m\u001b[0;34m\u001b[0m\u001b[0m\n\u001b[0;32m---> 81\u001b[0;31m         \u001b[0mvalidate\u001b[0m\u001b[0;34m=\u001b[0m\u001b[0mvalidate\u001b[0m\u001b[0;34m,\u001b[0m\u001b[0;34m\u001b[0m\u001b[0;34m\u001b[0m\u001b[0m\n\u001b[0m\u001b[1;32m     82\u001b[0m     )\n\u001b[1;32m     83\u001b[0m     \u001b[0;32mreturn\u001b[0m \u001b[0mop\u001b[0m\u001b[0;34m.\u001b[0m\u001b[0mget_result\u001b[0m\u001b[0;34m(\u001b[0m\u001b[0;34m)\u001b[0m\u001b[0;34m\u001b[0m\u001b[0;34m\u001b[0m\u001b[0m\n",
      "\u001b[0;32m~/anaconda3/envs/learn-env/lib/python3.6/site-packages/pandas/core/reshape/merge.py\u001b[0m in \u001b[0;36m__init__\u001b[0;34m(self, left, right, how, on, left_on, right_on, axis, left_index, right_index, sort, suffixes, copy, indicator, validate)\u001b[0m\n\u001b[1;32m    617\u001b[0m             \u001b[0mwarnings\u001b[0m\u001b[0;34m.\u001b[0m\u001b[0mwarn\u001b[0m\u001b[0;34m(\u001b[0m\u001b[0mmsg\u001b[0m\u001b[0;34m,\u001b[0m \u001b[0mUserWarning\u001b[0m\u001b[0;34m)\u001b[0m\u001b[0;34m\u001b[0m\u001b[0;34m\u001b[0m\u001b[0m\n\u001b[1;32m    618\u001b[0m \u001b[0;34m\u001b[0m\u001b[0m\n\u001b[0;32m--> 619\u001b[0;31m         \u001b[0mself\u001b[0m\u001b[0;34m.\u001b[0m\u001b[0m_validate_specification\u001b[0m\u001b[0;34m(\u001b[0m\u001b[0;34m)\u001b[0m\u001b[0;34m\u001b[0m\u001b[0;34m\u001b[0m\u001b[0m\n\u001b[0m\u001b[1;32m    620\u001b[0m \u001b[0;34m\u001b[0m\u001b[0m\n\u001b[1;32m    621\u001b[0m         \u001b[0;31m# note this function has side effects\u001b[0m\u001b[0;34m\u001b[0m\u001b[0;34m\u001b[0m\u001b[0;34m\u001b[0m\u001b[0m\n",
      "\u001b[0;32m~/anaconda3/envs/learn-env/lib/python3.6/site-packages/pandas/core/reshape/merge.py\u001b[0m in \u001b[0;36m_validate_specification\u001b[0;34m(self)\u001b[0m\n\u001b[1;32m   1188\u001b[0m                             \u001b[0mron\u001b[0m\u001b[0;34m=\u001b[0m\u001b[0mself\u001b[0m\u001b[0;34m.\u001b[0m\u001b[0mright_on\u001b[0m\u001b[0;34m,\u001b[0m\u001b[0;34m\u001b[0m\u001b[0;34m\u001b[0m\u001b[0m\n\u001b[1;32m   1189\u001b[0m                             \u001b[0mlidx\u001b[0m\u001b[0;34m=\u001b[0m\u001b[0mself\u001b[0m\u001b[0;34m.\u001b[0m\u001b[0mleft_index\u001b[0m\u001b[0;34m,\u001b[0m\u001b[0;34m\u001b[0m\u001b[0;34m\u001b[0m\u001b[0m\n\u001b[0;32m-> 1190\u001b[0;31m                             \u001b[0mridx\u001b[0m\u001b[0;34m=\u001b[0m\u001b[0mself\u001b[0m\u001b[0;34m.\u001b[0m\u001b[0mright_index\u001b[0m\u001b[0;34m,\u001b[0m\u001b[0;34m\u001b[0m\u001b[0;34m\u001b[0m\u001b[0m\n\u001b[0m\u001b[1;32m   1191\u001b[0m                         )\n\u001b[1;32m   1192\u001b[0m                     )\n",
      "\u001b[0;31mMergeError\u001b[0m: No common columns to perform merge on. Merge options: left_on=None, right_on=None, left_index=False, right_index=False"
     ]
    }
   ],
   "source": [
    "df_tot = df_1.merge(df_2)"
   ]
  },
  {
   "cell_type": "code",
   "execution_count": null,
   "metadata": {},
   "outputs": [],
   "source": [
    "df_tot.head()"
   ]
  },
  {
   "cell_type": "code",
   "execution_count": null,
   "metadata": {},
   "outputs": [],
   "source": [
    "df_tot.drop(df_tot.index[df_tot['revenue'] == '$0.00'], inplace = True)"
   ]
  },
  {
   "cell_type": "code",
   "execution_count": null,
   "metadata": {},
   "outputs": [],
   "source": [
    "df_tot.head()"
   ]
  },
  {
   "cell_type": "code",
   "execution_count": null,
   "metadata": {},
   "outputs": [],
   "source": [
    "df_tot.sort_values(by=['revenue'], ascending=False)"
   ]
  },
  {
   "cell_type": "code",
   "execution_count": null,
   "metadata": {},
   "outputs": [],
   "source": [
    "\n"
   ]
  },
  {
   "cell_type": "code",
   "execution_count": null,
   "metadata": {},
   "outputs": [],
   "source": [
    "def convert_currency(val):\n",
    "    \"\"\"\n",
    "    Convert the string number value to a float\n",
    "     - Remove $\n",
    "     - Remove commas\n",
    "     - Convert to float type\n",
    "    \"\"\"\n",
    "    new_val = val.replace(',','').replace('$', '')\n",
    "    return float(new_val)\n",
    "\n",
    "df_tot['budget']=df_tot['budget'].apply(convert_currency)"
   ]
  },
  {
   "cell_type": "code",
   "execution_count": null,
   "metadata": {},
   "outputs": [],
   "source": [
    "df_tot"
   ]
  },
  {
   "cell_type": "code",
   "execution_count": null,
   "metadata": {},
   "outputs": [],
   "source": [
    "def convert_currency(val):\n",
    "    \"\"\"\n",
    "    Convert the string number value to a float\n",
    "     - Remove $\n",
    "     - Remove commas\n",
    "     - Convert to float type\n",
    "    \"\"\"\n",
    "    new_val = val.replace(',','').replace('$', '')\n",
    "    return float(new_val)\n",
    "\n",
    "df_tot['revenue']=df_tot['revenue'].apply(convert_currency)"
   ]
  },
  {
   "cell_type": "code",
   "execution_count": null,
   "metadata": {},
   "outputs": [],
   "source": [
    "df_tot"
   ]
  },
  {
   "cell_type": "code",
   "execution_count": null,
   "metadata": {},
   "outputs": [],
   "source": [
    "df_tot['Gross Profit']= df_tot.revenue-df_tot.budget"
   ]
  },
  {
   "cell_type": "code",
   "execution_count": null,
   "metadata": {},
   "outputs": [],
   "source": [
    "df_tot"
   ]
  },
  {
   "cell_type": "code",
   "execution_count": null,
   "metadata": {},
   "outputs": [],
   "source": [
    "df_tot.drop(df_tot.index[df_tot['budget'] == 0], inplace = True) # Dropping a 'budget' values that are $0."
   ]
  },
  {
   "cell_type": "code",
   "execution_count": null,
   "metadata": {},
   "outputs": [],
   "source": [
    "df_tot.to_csv('df_tot.csv')"
   ]
  },
  {
   "cell_type": "code",
   "execution_count": null,
   "metadata": {},
   "outputs": [],
   "source": [
    "df_tot['Gross Profit']= df_tot.revenue-df_tot.budget    #Creating a 'Gross Profit' column"
   ]
  },
  {
   "cell_type": "code",
   "execution_count": null,
   "metadata": {},
   "outputs": [],
   "source": [
    "df_tot.head()"
   ]
  },
  {
   "cell_type": "code",
   "execution_count": null,
   "metadata": {},
   "outputs": [],
   "source": [
    "df_10=df_tot.sort_values(by=['averageRating', 'Gross Profit'], ascending=False).head(10) # Creating a dataframe for movies with highest rating and highest gross product."
   ]
  },
  {
   "cell_type": "code",
   "execution_count": null,
   "metadata": {},
   "outputs": [],
   "source": [
    "df_100=df_tot.sort_values(by=['Gross Profit'], ascending=False).head(100) # Creating a dataframe for movies with highest rating and highest gross product."
   ]
  },
  {
   "cell_type": "code",
   "execution_count": null,
   "metadata": {},
   "outputs": [],
   "source": [
    "df_10.to_csv('df_10.csv')\n"
   ]
  },
  {
   "cell_type": "code",
   "execution_count": null,
   "metadata": {},
   "outputs": [],
   "source": [
    "df_100.to_csv('df_100.csv')"
   ]
  },
  {
   "cell_type": "code",
   "execution_count": null,
   "metadata": {},
   "outputs": [],
   "source": [
    "df_10"
   ]
  },
  {
   "cell_type": "code",
   "execution_count": null,
   "metadata": {},
   "outputs": [],
   "source": [
    "df_10.plot.bar(x='bk', y='Gross Profit')\n"
   ]
  },
  {
   "cell_type": "code",
   "execution_count": null,
   "metadata": {},
   "outputs": [],
   "source": [
    "df_10['genre_ids'].str.get('') \n"
   ]
  },
  {
   "cell_type": "code",
   "execution_count": null,
   "metadata": {},
   "outputs": [],
   "source": [
    "\n"
   ]
  },
  {
   "cell_type": "code",
   "execution_count": null,
   "metadata": {},
   "outputs": [],
   "source": [
    "df_act = df_10[df_10['genres'] =='Action']"
   ]
  },
  {
   "cell_type": "code",
   "execution_count": null,
   "metadata": {},
   "outputs": [],
   "source": [
    "df_10['genres'].str.split()"
   ]
  },
  {
   "cell_type": "code",
   "execution_count": null,
   "metadata": {},
   "outputs": [],
   "source": [
    "filter2 = df_10[\"genre_ids\"].isin(['Action']) "
   ]
  },
  {
   "cell_type": "code",
   "execution_count": null,
   "metadata": {},
   "outputs": [],
   "source": [
    "filter2\n"
   ]
  },
  {
   "cell_type": "code",
   "execution_count": null,
   "metadata": {},
   "outputs": [],
   "source": [
    "count = df_10.groupby(['genre_ids']).count() "
   ]
  },
  {
   "cell_type": "code",
   "execution_count": null,
   "metadata": {},
   "outputs": [],
   "source": [
    "\n",
    "df_100['Drama']= df_100[\"genres\"].str.find('Drama') "
   ]
  },
  {
   "cell_type": "code",
   "execution_count": null,
   "metadata": {},
   "outputs": [],
   "source": [
    "test\n"
   ]
  },
  {
   "cell_type": "code",
   "execution_count": 27,
   "metadata": {},
   "outputs": [
    {
     "ename": "NameError",
     "evalue": "name 'df_100' is not defined",
     "output_type": "error",
     "traceback": [
      "\u001b[0;31m---------------------------------------------------------------------------\u001b[0m",
      "\u001b[0;31mNameError\u001b[0m                                 Traceback (most recent call last)",
      "\u001b[0;32m<ipython-input-27-1afb7ab591f3>\u001b[0m in \u001b[0;36m<module>\u001b[0;34m\u001b[0m\n\u001b[0;32m----> 1\u001b[0;31m \u001b[0mdf_100\u001b[0m\u001b[0;34m\u001b[0m\u001b[0;34m\u001b[0m\u001b[0m\n\u001b[0m",
      "\u001b[0;31mNameError\u001b[0m: name 'df_100' is not defined"
     ]
    }
   ],
   "source": [
    "df_100"
   ]
  },
  {
   "cell_type": "code",
   "execution_count": 26,
   "metadata": {},
   "outputs": [
    {
     "ename": "NameError",
     "evalue": "name 'df_100' is not defined",
     "output_type": "error",
     "traceback": [
      "\u001b[0;31m---------------------------------------------------------------------------\u001b[0m",
      "\u001b[0;31mNameError\u001b[0m                                 Traceback (most recent call last)",
      "\u001b[0;32m<ipython-input-26-7cbb2bb459df>\u001b[0m in \u001b[0;36m<module>\u001b[0;34m\u001b[0m\n\u001b[1;32m      1\u001b[0m \u001b[0mgenre_list\u001b[0m \u001b[0;34m=\u001b[0m \u001b[0;34m[\u001b[0m\u001b[0;34m]\u001b[0m\u001b[0;34m\u001b[0m\u001b[0;34m\u001b[0m\u001b[0m\n\u001b[0;32m----> 2\u001b[0;31m \u001b[0;32mfor\u001b[0m \u001b[0mgenres\u001b[0m \u001b[0;32min\u001b[0m \u001b[0mdf_100\u001b[0m\u001b[0;34m.\u001b[0m\u001b[0mgenre_ids\u001b[0m\u001b[0;34m:\u001b[0m\u001b[0;34m\u001b[0m\u001b[0;34m\u001b[0m\u001b[0m\n\u001b[0m\u001b[1;32m      3\u001b[0m     \u001b[0;32mfor\u001b[0m \u001b[0mgenre\u001b[0m \u001b[0;32min\u001b[0m \u001b[0mgenres\u001b[0m\u001b[0;34m:\u001b[0m\u001b[0;34m\u001b[0m\u001b[0;34m\u001b[0m\u001b[0m\n\u001b[1;32m      4\u001b[0m         \u001b[0;32mif\u001b[0m \u001b[0mgenre\u001b[0m \u001b[0;32mnot\u001b[0m \u001b[0;32min\u001b[0m \u001b[0mgenre_list\u001b[0m\u001b[0;34m:\u001b[0m\u001b[0;34m\u001b[0m\u001b[0;34m\u001b[0m\u001b[0m\n\u001b[1;32m      5\u001b[0m             \u001b[0mgenre_list\u001b[0m\u001b[0;34m.\u001b[0m\u001b[0mappend\u001b[0m\u001b[0;34m(\u001b[0m\u001b[0mgenre\u001b[0m\u001b[0;34m)\u001b[0m\u001b[0;34m\u001b[0m\u001b[0;34m\u001b[0m\u001b[0m\n",
      "\u001b[0;31mNameError\u001b[0m: name 'df_100' is not defined"
     ]
    }
   ],
   "source": [
    "genre_list = []\n",
    "for genres in df_100.genre_ids:\n",
    "    for genre in genres:\n",
    "        if genre not in genre_list:\n",
    "            genre_list.append(genre)"
   ]
  },
  {
   "cell_type": "code",
   "execution_count": 24,
   "metadata": {},
   "outputs": [
    {
     "ename": "NameError",
     "evalue": "name 'genre_list' is not defined",
     "output_type": "error",
     "traceback": [
      "\u001b[0;31m---------------------------------------------------------------------------\u001b[0m",
      "\u001b[0;31mNameError\u001b[0m                                 Traceback (most recent call last)",
      "\u001b[0;32m<ipython-input-24-604032d74f56>\u001b[0m in \u001b[0;36m<module>\u001b[0;34m\u001b[0m\n\u001b[0;32m----> 1\u001b[0;31m \u001b[0;32mfor\u001b[0m \u001b[0mgenre\u001b[0m \u001b[0;32min\u001b[0m \u001b[0mgenre_list\u001b[0m\u001b[0;34m:\u001b[0m\u001b[0;34m\u001b[0m\u001b[0;34m\u001b[0m\u001b[0m\n\u001b[0m\u001b[1;32m      2\u001b[0m     \u001b[0mdf_100\u001b[0m\u001b[0;34m[\u001b[0m\u001b[0mgenre\u001b[0m\u001b[0;34m]\u001b[0m \u001b[0;34m=\u001b[0m \u001b[0mdf_100\u001b[0m\u001b[0;34m[\u001b[0m\u001b[0;34m'genre_ids'\u001b[0m\u001b[0;34m]\u001b[0m\u001b[0;34m.\u001b[0m\u001b[0mapply\u001b[0m\u001b[0;34m(\u001b[0m\u001b[0;32mlambda\u001b[0m \u001b[0mx\u001b[0m\u001b[0;34m:\u001b[0m \u001b[0mgenre\u001b[0m \u001b[0;32min\u001b[0m \u001b[0mx\u001b[0m\u001b[0;34m)\u001b[0m\u001b[0;34m\u001b[0m\u001b[0;34m\u001b[0m\u001b[0m\n\u001b[1;32m      3\u001b[0m \u001b[0;34m\u001b[0m\u001b[0m\n\u001b[1;32m      4\u001b[0m \u001b[0mdf_100\u001b[0m\u001b[0;34m.\u001b[0m\u001b[0mhead\u001b[0m\u001b[0;34m(\u001b[0m\u001b[0;34m)\u001b[0m\u001b[0;34m\u001b[0m\u001b[0;34m\u001b[0m\u001b[0m\n",
      "\u001b[0;31mNameError\u001b[0m: name 'genre_list' is not defined"
     ]
    }
   ],
   "source": [
    "for genre in genre_list:\n",
    "    df_100[genre] = df_100['genre_ids'].apply(lambda x: genre in x)\n",
    "    \n",
    "df_100.head()"
   ]
  },
  {
   "cell_type": "code",
   "execution_count": null,
   "metadata": {},
   "outputs": [],
   "source": []
  }
 ],
 "metadata": {
  "kernelspec": {
   "display_name": "Python [conda env:learn-env] *",
   "language": "python",
   "name": "conda-env-learn-env-py"
  },
  "language_info": {
   "codemirror_mode": {
    "name": "ipython",
    "version": 3
   },
   "file_extension": ".py",
   "mimetype": "text/x-python",
   "name": "python",
   "nbconvert_exporter": "python",
   "pygments_lexer": "ipython3",
   "version": "3.6.9"
  }
 },
 "nbformat": 4,
 "nbformat_minor": 2
}
